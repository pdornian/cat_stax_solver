{
 "cells": [
  {
   "cell_type": "code",
   "execution_count": 9,
   "metadata": {},
   "outputs": [],
   "source": [
    "from cat_stax import grid1, init_puzzle_grid, solve_puzzle"
   ]
  },
  {
   "cell_type": "code",
   "execution_count": 10,
   "metadata": {},
   "outputs": [
    {
     "name": "stdout",
     "output_type": "stream",
     "text": [
      "[['S' 'M' 'M' 'T' 'T']\n",
      " ['S' 'M' 'M' 'M' 'T']\n",
      " ['B' 'M' 'B' 'V' 'V']\n",
      " ['B' 'B' 'B' 'V' 'V']\n",
      " ['B' 'B' 'B' 'V' 'V']]\n"
     ]
    }
   ],
   "source": [
    "grid, cats=solve_puzzle(['black', 'mint', 'violet', 'sky', 'teal'], grid1)"
   ]
  },
  {
   "cell_type": "code",
   "execution_count": 11,
   "metadata": {},
   "outputs": [
    {
     "name": "stdout",
     "output_type": "stream",
     "text": [
      "[['V' 'V' 'R' 'R' 'S' 'S' 'A']\n",
      " ['V' 'V' 'R' 'A' 'A' 'A' 'A']\n",
      " ['V' 'V' 'R' 'A' 'A' 'A' 'A']\n",
      " ['Y' 'R' 'R' 'R' 'B' 'B' 'B']\n",
      " ['Y' 'Y' 'Y' 'T' 'T' 'B' 'B']\n",
      " ['Y' 'Y' 'Y' 'T' 'B' 'B' 'B']]\n"
     ]
    }
   ],
   "source": [
    "grid5=init_puzzle_grid(6,7)\n",
    "grid, cats=solve_puzzle(['arctic','violet', 'sky', 'teal', 'yellow', 'black', 'red'], grid5)"
   ]
  },
  {
   "cell_type": "code",
   "execution_count": 12,
   "metadata": {},
   "outputs": [
    {
     "name": "stdout",
     "output_type": "stream",
     "text": [
      "[['T' 'T' 'G' 'S' 'S' 'G']\n",
      " ['T' 'M' 'G' 'G' 'G' 'G']\n",
      " ['M' 'M' 'G' 'P' 'P' 'G']\n",
      " ['M' 'M' 'M' 'P' 'G' 'G']\n",
      " ['V' 'V' 'P' 'P' 'P' 'A']\n",
      " ['V' 'V' 'A' 'A' 'A' 'A']\n",
      " ['V' 'V' 'A' 'A' 'A' 'A']]\n"
     ]
    }
   ],
   "source": [
    "grid14=init_puzzle_grid(7,6)\n",
    "grid, cats=solve_puzzle(['pink','arctic', 'violet', 'green', 'mint', 'sky', 'teal'], grid14)"
   ]
  },
  {
   "cell_type": "code",
   "execution_count": 13,
   "metadata": {},
   "outputs": [
    {
     "name": "stdout",
     "output_type": "stream",
     "text": [
      "[['V' 'V' 'V' 'T' 'T' 'M' 'M']\n",
      " ['V' 'V' 'V' 'T' 'M' 'M' 'M']\n",
      " ['B' 'X' 'B' 'R' 'R' 'X' 'M']\n",
      " ['B' 'B' 'B' 'R' 'I' 'I' 'S']\n",
      " ['B' 'B' 'B' 'R' 'I' 'I' 'S']\n",
      " ['Y' 'X' 'R' 'R' 'R' 'X' 'A']\n",
      " ['Y' 'Y' 'Y' 'A' 'A' 'A' 'A']\n",
      " ['Y' 'Y' 'Y' 'A' 'A' 'A' 'A']]\n"
     ]
    }
   ],
   "source": [
    "grid16=init_puzzle_grid(8, 7, blocked_indices=((2,1),\n",
    "                                       (2, 5),\n",
    "                                       (5, 1),\n",
    "                                       (5, 5)))\n",
    "\n",
    "grid, cats = solve_puzzle(['black',\n",
    "                           'indigo',\n",
    "                           'arctic',\n",
    "                           'yellow',\n",
    "                           'violet',\n",
    "                           'mint',\n",
    "                           'teal',\n",
    "                           'sky',\n",
    "                           'red'], grid16)"
   ]
  },
  {
   "cell_type": "code",
   "execution_count": 2,
   "metadata": {},
   "outputs": [],
   "source": [
    "# reference code for generating 3d plots by index.\n",
    "# # prepare some coordinates\n",
    "# x, y, z = np.indices((8, 8, 1))\n",
    "\n",
    "# # draw cuboids in the top left and bottom right corners, and a link between\n",
    "# # them\n",
    "# cube1 = (x < 3) & (y < 3) & (z < 1)\n",
    "# cube2 = (x >= 5) & (y >= 5) & (z <1)\n",
    "# #link = abs(x - y) + abs(y - z) + abs(z - x) <= 2\n",
    "\n",
    "# # combine the objects into a single boolean array\n",
    "# voxelarray = cube1 | cube2 #| link\n",
    "\n",
    "# # set the colors of each object\n",
    "# colors = np.empty(voxelarray.shape, dtype=object)\n",
    "# #colors[link] = 'red'\n",
    "# colors[cube1] = 'blue'\n",
    "# colors[cube2] = 'green'\n",
    "\n",
    "# # and plot everything\n",
    "# ax = plt.figure().add_subplot(projection='3d')\n",
    "# ax.voxels(voxelarray, facecolors=colors, edgecolor='k')\n",
    "\n",
    "# plt.show()"
   ]
  }
 ],
 "metadata": {
  "kernelspec": {
   "display_name": "Python 3",
   "language": "python",
   "name": "python3"
  },
  "language_info": {
   "codemirror_mode": {
    "name": "ipython",
    "version": 3
   },
   "file_extension": ".py",
   "mimetype": "text/x-python",
   "name": "python",
   "nbconvert_exporter": "python",
   "pygments_lexer": "ipython3",
   "version": "3.11.5"
  }
 },
 "nbformat": 4,
 "nbformat_minor": 2
}
